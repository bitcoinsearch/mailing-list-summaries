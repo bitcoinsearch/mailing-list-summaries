{
  "nbformat": 4,
  "nbformat_minor": 0,
  "metadata": {
    "colab": {
      "provenance": []
    },
    "kernelspec": {
      "name": "python3",
      "display_name": "Python 3"
    },
    "language_info": {
      "name": "python"
    }
  },
  "cells": [
    {
      "cell_type": "code",
      "execution_count": 63,
      "metadata": {
        "colab": {
          "base_uri": "https://localhost:8080/"
        },
        "id": "fyE_NzdlZV1I",
        "outputId": "4c57e6fe-adc6-457d-85da-8b85149ff6df"
      },
      "outputs": [
        {
          "output_type": "stream",
          "name": "stdout",
          "text": [
            "Mounted at /content/drive\n"
          ]
        }
      ],
      "source": [
        "from google.colab import drive\n",
        "drive.mount('/content/drive', force_remount=True)"
      ]
    },
    {
      "cell_type": "markdown",
      "source": [
        "## Installations"
      ],
      "metadata": {
        "id": "MyriwSVTbN-h"
      }
    },
    {
      "cell_type": "code",
      "source": [
        "!pip install ipython-autotime\n",
        "%load_ext autotime"
      ],
      "metadata": {
        "colab": {
          "base_uri": "https://localhost:8080/"
        },
        "id": "PWF3ABJ8axXc",
        "outputId": "3157e804-f4ef-4d05-b30f-a4357830039a"
      },
      "execution_count": 64,
      "outputs": [
        {
          "output_type": "stream",
          "name": "stdout",
          "text": [
            "Looking in indexes: https://pypi.org/simple, https://us-python.pkg.dev/colab-wheels/public/simple/\n",
            "Collecting ipython-autotime\n",
            "  Downloading ipython_autotime-0.3.1-py2.py3-none-any.whl (6.8 kB)\n",
            "Requirement already satisfied: ipython in /usr/local/lib/python3.8/dist-packages (from ipython-autotime) (7.9.0)\n",
            "Requirement already satisfied: prompt-toolkit<2.1.0,>=2.0.0 in /usr/local/lib/python3.8/dist-packages (from ipython->ipython-autotime) (2.0.10)\n",
            "Requirement already satisfied: backcall in /usr/local/lib/python3.8/dist-packages (from ipython->ipython-autotime) (0.2.0)\n",
            "Requirement already satisfied: setuptools>=18.5 in /usr/local/lib/python3.8/dist-packages (from ipython->ipython-autotime) (57.4.0)\n",
            "Requirement already satisfied: pexpect in /usr/local/lib/python3.8/dist-packages (from ipython->ipython-autotime) (4.8.0)\n",
            "Requirement already satisfied: pickleshare in /usr/local/lib/python3.8/dist-packages (from ipython->ipython-autotime) (0.7.5)\n",
            "Requirement already satisfied: decorator in /usr/local/lib/python3.8/dist-packages (from ipython->ipython-autotime) (4.4.2)\n",
            "Requirement already satisfied: pygments in /usr/local/lib/python3.8/dist-packages (from ipython->ipython-autotime) (2.6.1)\n",
            "Collecting jedi>=0.10\n",
            "  Downloading jedi-0.18.2-py2.py3-none-any.whl (1.6 MB)\n",
            "\u001b[2K     \u001b[90m━━━━━━━━━━━━━━━━━━━━━━━━━━━━━━━━━━━━━━━━\u001b[0m \u001b[32m1.6/1.6 MB\u001b[0m \u001b[31m17.1 MB/s\u001b[0m eta \u001b[36m0:00:00\u001b[0m\n",
            "\u001b[?25hRequirement already satisfied: traitlets>=4.2 in /usr/local/lib/python3.8/dist-packages (from ipython->ipython-autotime) (5.7.1)\n",
            "Requirement already satisfied: parso<0.9.0,>=0.8.0 in /usr/local/lib/python3.8/dist-packages (from jedi>=0.10->ipython->ipython-autotime) (0.8.3)\n",
            "Requirement already satisfied: six>=1.9.0 in /usr/local/lib/python3.8/dist-packages (from prompt-toolkit<2.1.0,>=2.0.0->ipython->ipython-autotime) (1.15.0)\n",
            "Requirement already satisfied: wcwidth in /usr/local/lib/python3.8/dist-packages (from prompt-toolkit<2.1.0,>=2.0.0->ipython->ipython-autotime) (0.2.6)\n",
            "Requirement already satisfied: ptyprocess>=0.5 in /usr/local/lib/python3.8/dist-packages (from pexpect->ipython->ipython-autotime) (0.7.0)\n",
            "Installing collected packages: jedi, ipython-autotime\n",
            "Successfully installed ipython-autotime-0.3.1 jedi-0.18.2\n",
            "time: 1.76 ms (started: 2023-03-03 11:02:11 +00:00)\n"
          ]
        }
      ]
    },
    {
      "cell_type": "code",
      "source": [
        "!pip install openai"
      ],
      "metadata": {
        "colab": {
          "base_uri": "https://localhost:8080/"
        },
        "id": "VW60A54K6NVU",
        "outputId": "85e81030-de95-41db-d397-6593d1c6824a"
      },
      "execution_count": 65,
      "outputs": [
        {
          "output_type": "stream",
          "name": "stdout",
          "text": [
            "Looking in indexes: https://pypi.org/simple, https://us-python.pkg.dev/colab-wheels/public/simple/\n",
            "Collecting openai\n",
            "  Downloading openai-0.27.0-py3-none-any.whl (70 kB)\n",
            "\u001b[2K     \u001b[90m━━━━━━━━━━━━━━━━━━━━━━━━━━━━━━━━━━━━━━━━\u001b[0m \u001b[32m70.1/70.1 KB\u001b[0m \u001b[31m2.5 MB/s\u001b[0m eta \u001b[36m0:00:00\u001b[0m\n",
            "\u001b[?25hRequirement already satisfied: tqdm in /usr/local/lib/python3.8/dist-packages (from openai) (4.64.1)\n",
            "Requirement already satisfied: requests>=2.20 in /usr/local/lib/python3.8/dist-packages (from openai) (2.25.1)\n",
            "Requirement already satisfied: aiohttp in /usr/local/lib/python3.8/dist-packages (from openai) (3.8.4)\n",
            "Requirement already satisfied: urllib3<1.27,>=1.21.1 in /usr/local/lib/python3.8/dist-packages (from requests>=2.20->openai) (1.26.14)\n",
            "Requirement already satisfied: certifi>=2017.4.17 in /usr/local/lib/python3.8/dist-packages (from requests>=2.20->openai) (2022.12.7)\n",
            "Requirement already satisfied: chardet<5,>=3.0.2 in /usr/local/lib/python3.8/dist-packages (from requests>=2.20->openai) (4.0.0)\n",
            "Requirement already satisfied: idna<3,>=2.5 in /usr/local/lib/python3.8/dist-packages (from requests>=2.20->openai) (2.10)\n",
            "Requirement already satisfied: multidict<7.0,>=4.5 in /usr/local/lib/python3.8/dist-packages (from aiohttp->openai) (6.0.4)\n",
            "Requirement already satisfied: frozenlist>=1.1.1 in /usr/local/lib/python3.8/dist-packages (from aiohttp->openai) (1.3.3)\n",
            "Requirement already satisfied: charset-normalizer<4.0,>=2.0 in /usr/local/lib/python3.8/dist-packages (from aiohttp->openai) (3.0.1)\n",
            "Requirement already satisfied: yarl<2.0,>=1.0 in /usr/local/lib/python3.8/dist-packages (from aiohttp->openai) (1.8.2)\n",
            "Requirement already satisfied: aiosignal>=1.1.2 in /usr/local/lib/python3.8/dist-packages (from aiohttp->openai) (1.3.1)\n",
            "Requirement already satisfied: async-timeout<5.0,>=4.0.0a3 in /usr/local/lib/python3.8/dist-packages (from aiohttp->openai) (4.0.2)\n",
            "Requirement already satisfied: attrs>=17.3.0 in /usr/local/lib/python3.8/dist-packages (from aiohttp->openai) (22.2.0)\n",
            "Installing collected packages: openai\n",
            "Successfully installed openai-0.27.0\n",
            "time: 6.06 s (started: 2023-03-03 11:02:11 +00:00)\n"
          ]
        }
      ]
    },
    {
      "cell_type": "code",
      "source": [
        "!pip install --upgrade openai"
      ],
      "metadata": {
        "colab": {
          "base_uri": "https://localhost:8080/"
        },
        "id": "D5-ijIjS6Pf1",
        "outputId": "e6a0d4e2-2402-44ae-e942-69302d6b6b85"
      },
      "execution_count": 66,
      "outputs": [
        {
          "output_type": "stream",
          "name": "stdout",
          "text": [
            "Looking in indexes: https://pypi.org/simple, https://us-python.pkg.dev/colab-wheels/public/simple/\n",
            "Requirement already satisfied: openai in /usr/local/lib/python3.8/dist-packages (0.27.0)\n",
            "Requirement already satisfied: requests>=2.20 in /usr/local/lib/python3.8/dist-packages (from openai) (2.25.1)\n",
            "Requirement already satisfied: aiohttp in /usr/local/lib/python3.8/dist-packages (from openai) (3.8.4)\n",
            "Requirement already satisfied: tqdm in /usr/local/lib/python3.8/dist-packages (from openai) (4.64.1)\n",
            "Requirement already satisfied: certifi>=2017.4.17 in /usr/local/lib/python3.8/dist-packages (from requests>=2.20->openai) (2022.12.7)\n",
            "Requirement already satisfied: chardet<5,>=3.0.2 in /usr/local/lib/python3.8/dist-packages (from requests>=2.20->openai) (4.0.0)\n",
            "Requirement already satisfied: idna<3,>=2.5 in /usr/local/lib/python3.8/dist-packages (from requests>=2.20->openai) (2.10)\n",
            "Requirement already satisfied: urllib3<1.27,>=1.21.1 in /usr/local/lib/python3.8/dist-packages (from requests>=2.20->openai) (1.26.14)\n",
            "Requirement already satisfied: charset-normalizer<4.0,>=2.0 in /usr/local/lib/python3.8/dist-packages (from aiohttp->openai) (3.0.1)\n",
            "Requirement already satisfied: multidict<7.0,>=4.5 in /usr/local/lib/python3.8/dist-packages (from aiohttp->openai) (6.0.4)\n",
            "Requirement already satisfied: async-timeout<5.0,>=4.0.0a3 in /usr/local/lib/python3.8/dist-packages (from aiohttp->openai) (4.0.2)\n",
            "Requirement already satisfied: yarl<2.0,>=1.0 in /usr/local/lib/python3.8/dist-packages (from aiohttp->openai) (1.8.2)\n",
            "Requirement already satisfied: aiosignal>=1.1.2 in /usr/local/lib/python3.8/dist-packages (from aiohttp->openai) (1.3.1)\n",
            "Requirement already satisfied: frozenlist>=1.1.1 in /usr/local/lib/python3.8/dist-packages (from aiohttp->openai) (1.3.3)\n",
            "Requirement already satisfied: attrs>=17.3.0 in /usr/local/lib/python3.8/dist-packages (from aiohttp->openai) (22.2.0)\n",
            "time: 5.45 s (started: 2023-03-03 11:02:17 +00:00)\n"
          ]
        }
      ]
    },
    {
      "cell_type": "code",
      "source": [
        "!pip install tiktoken"
      ],
      "metadata": {
        "colab": {
          "base_uri": "https://localhost:8080/",
          "height": 592
        },
        "id": "1-54J2j6ayLb",
        "outputId": "5fb950e5-7c77-4a09-9f19-6ff27f55bc3a"
      },
      "execution_count": 67,
      "outputs": [
        {
          "output_type": "stream",
          "name": "stdout",
          "text": [
            "Looking in indexes: https://pypi.org/simple, https://us-python.pkg.dev/colab-wheels/public/simple/\n",
            "Collecting tiktoken\n",
            "  Downloading tiktoken-0.3.0-cp38-cp38-manylinux_2_17_x86_64.manylinux2014_x86_64.whl (1.6 MB)\n",
            "\u001b[2K     \u001b[90m━━━━━━━━━━━━━━━━━━━━━━━━━━━━━━━━━━━━━━━━\u001b[0m \u001b[32m1.6/1.6 MB\u001b[0m \u001b[31m17.9 MB/s\u001b[0m eta \u001b[36m0:00:00\u001b[0m\n",
            "\u001b[?25hCollecting requests>=2.26.0\n",
            "  Downloading requests-2.28.2-py3-none-any.whl (62 kB)\n",
            "\u001b[2K     \u001b[90m━━━━━━━━━━━━━━━━━━━━━━━━━━━━━━━━━━━━━━━━\u001b[0m \u001b[32m62.8/62.8 KB\u001b[0m \u001b[31m6.5 MB/s\u001b[0m eta \u001b[36m0:00:00\u001b[0m\n",
            "\u001b[?25hRequirement already satisfied: regex>=2022.1.18 in /usr/local/lib/python3.8/dist-packages (from tiktoken) (2022.6.2)\n",
            "Collecting blobfile>=2\n",
            "  Downloading blobfile-2.0.1-py3-none-any.whl (73 kB)\n",
            "\u001b[2K     \u001b[90m━━━━━━━━━━━━━━━━━━━━━━━━━━━━━━━━━━━━━━━━\u001b[0m \u001b[32m73.5/73.5 KB\u001b[0m \u001b[31m8.2 MB/s\u001b[0m eta \u001b[36m0:00:00\u001b[0m\n",
            "\u001b[?25hRequirement already satisfied: lxml~=4.9 in /usr/local/lib/python3.8/dist-packages (from blobfile>=2->tiktoken) (4.9.2)\n",
            "Collecting pycryptodomex~=3.8\n",
            "  Downloading pycryptodomex-3.17-cp35-abi3-manylinux_2_17_x86_64.manylinux2014_x86_64.whl (2.1 MB)\n",
            "\u001b[2K     \u001b[90m━━━━━━━━━━━━━━━━━━━━━━━━━━━━━━━━━━━━━━━━\u001b[0m \u001b[32m2.1/2.1 MB\u001b[0m \u001b[31m50.3 MB/s\u001b[0m eta \u001b[36m0:00:00\u001b[0m\n",
            "\u001b[?25hRequirement already satisfied: urllib3<3,>=1.25.3 in /usr/local/lib/python3.8/dist-packages (from blobfile>=2->tiktoken) (1.26.14)\n",
            "Requirement already satisfied: filelock~=3.0 in /usr/local/lib/python3.8/dist-packages (from blobfile>=2->tiktoken) (3.9.0)\n",
            "Requirement already satisfied: idna<4,>=2.5 in /usr/local/lib/python3.8/dist-packages (from requests>=2.26.0->tiktoken) (2.10)\n",
            "Requirement already satisfied: charset-normalizer<4,>=2 in /usr/local/lib/python3.8/dist-packages (from requests>=2.26.0->tiktoken) (3.0.1)\n",
            "Requirement already satisfied: certifi>=2017.4.17 in /usr/local/lib/python3.8/dist-packages (from requests>=2.26.0->tiktoken) (2022.12.7)\n",
            "Installing collected packages: requests, pycryptodomex, blobfile, tiktoken\n",
            "  Attempting uninstall: requests\n",
            "    Found existing installation: requests 2.25.1\n",
            "    Uninstalling requests-2.25.1:\n",
            "      Successfully uninstalled requests-2.25.1\n",
            "Successfully installed blobfile-2.0.1 pycryptodomex-3.17 requests-2.28.2 tiktoken-0.3.0\n"
          ]
        },
        {
          "output_type": "display_data",
          "data": {
            "application/vnd.colab-display-data+json": {
              "pip_warning": {
                "packages": [
                  "requests"
                ]
              }
            }
          },
          "metadata": {}
        },
        {
          "output_type": "stream",
          "name": "stdout",
          "text": [
            "time: 12.9 s (started: 2023-03-03 11:02:23 +00:00)\n"
          ]
        }
      ]
    },
    {
      "cell_type": "markdown",
      "source": [
        "## Imports"
      ],
      "metadata": {
        "id": "NqDxN78QbQpm"
      }
    },
    {
      "cell_type": "code",
      "source": [
        "import requests\n",
        "from bs4 import BeautifulSoup\n",
        "import pandas as pd\n",
        "import os\n",
        "from tqdm import tqdm\n",
        "import glob\n",
        "import gzip\n",
        "import shutil\n",
        "import re\n",
        "import tiktoken\n",
        "from dateutil.relativedelta import relativedelta\n",
        "from dateutil.parser import parse\n",
        "from urllib.parse import unquote\n",
        "import pytz\n",
        "import datetime\n",
        "import openai\n",
        "import json"
      ],
      "metadata": {
        "colab": {
          "base_uri": "https://localhost:8080/"
        },
        "id": "IPjNJOe6ayIi",
        "outputId": "6feed54a-961d-4c29-e2bb-1e8104c0b185"
      },
      "execution_count": 68,
      "outputs": [
        {
          "output_type": "stream",
          "name": "stdout",
          "text": [
            "time: 470 ms (started: 2023-03-03 11:02:36 +00:00)\n"
          ]
        }
      ]
    },
    {
      "cell_type": "code",
      "source": [
        "with open('/content/drive/MyDrive/AdamJonas/ADAM_OPENAI_API_KEY.json') as f:\n",
        "    data = json.load(f)\n",
        "    \n",
        "openai.api_key = data[\"API_KEY\"]\n",
        "os.environ[\"OPENAI_API_KEY\"] = data[\"API_KEY\"]"
      ],
      "metadata": {
        "colab": {
          "base_uri": "https://localhost:8080/"
        },
        "id": "mI5Nhmnw6Fh8",
        "outputId": "51afc580-3b42-47d7-9b83-bc604de5f403"
      },
      "execution_count": 69,
      "outputs": [
        {
          "output_type": "stream",
          "name": "stdout",
          "text": [
            "time: 678 ms (started: 2023-03-03 11:02:36 +00:00)\n"
          ]
        }
      ]
    },
    {
      "cell_type": "markdown",
      "source": [
        "## Config"
      ],
      "metadata": {
        "id": "_g-caVZb3yOA"
      }
    },
    {
      "cell_type": "code",
      "source": [
        "# configs to get token length\n",
        "tokenizer = tiktoken.get_encoding(\"cl100k_base\")\n",
        "\n",
        "# if set to True, it will use chatgpt model (\"gpt-4-1106-preview\") for all the completions\n",
        "CHATGPT = True\n",
        "\n",
        "# COMPLETION_MODEL - only applicable if CHATGPT is set to False\n",
        "COMPLETION_MODEL = \"text-davinci-003\" # \"text-ada-001\" \n",
        "\n",
        "\n",
        "CURRENT_TIME = datetime.datetime.now(datetime.timezone.utc)\n",
        "print(f\"Current time: {CURRENT_TIME}\")\n",
        "CURRENT_TIMESTAMP = str(CURRENT_TIME.timestamp()).replace(\".\", \"_\")"
      ],
      "metadata": {
        "colab": {
          "base_uri": "https://localhost:8080/"
        },
        "id": "DKe-c2m4onju",
        "outputId": "9456b67a-4730-4f86-ec0d-3f7203f5004a"
      },
      "execution_count": 92,
      "outputs": [
        {
          "output_type": "stream",
          "name": "stdout",
          "text": [
            "Current time: 2023-03-03 11:43:25.412200+00:00\n",
            "time: 4.12 ms (started: 2023-03-03 11:43:25 +00:00)\n"
          ]
        }
      ]
    },
    {
      "cell_type": "markdown",
      "source": [
        "## Utils"
      ],
      "metadata": {
        "id": "cV6_1AmD0zJi"
      }
    },
    {
      "cell_type": "code",
      "source": [
        "def normalize_text(s, sep_token = \" \\n \"):\n",
        "    s = re.sub(r'\\s+',  ' ', s).strip()\n",
        "    s = re.sub(r\". ,\",\"\", s)\n",
        "    s = s.replace(\"..\",\".\")\n",
        "    s = s.replace(\". .\",\".\")\n",
        "    s = s.replace(\"\\n\", \"\")\n",
        "    s = s.replace(\"#\",\"\")\n",
        "    s = s.strip()\n",
        "    return s\n",
        "\n",
        "\n",
        "def is_date(string, fuzzy=False):\n",
        "    \"\"\"\n",
        "    Return whether the string can be interpreted as a date.\n",
        "    :param string: str, string to check for date\n",
        "    :param fuzzy: bool, ignore unknown tokens in string if True\n",
        "    \"\"\"\n",
        "    try: \n",
        "        parse(string, fuzzy=fuzzy)\n",
        "        return True\n",
        "    except ValueError:\n",
        "        return False\n",
        "\n",
        "def preprocess_email(email_body):\n",
        "    email_body = email_body.split(\"-------------- next part --------------\")[0]\n",
        "    email_lines = email_body.split('\\n')\n",
        "    temp_ = []\n",
        "    for line in email_lines:\n",
        "        if line.startswith(\"On\"):\n",
        "            line = line.replace(\"-\", \" \")\n",
        "            x = re.sub('\\d', ' ', line)\n",
        "            if is_date(x, fuzzy=True):\n",
        "                continue\n",
        "            if line.endswith(\"> wrote:\"):\n",
        "                continue\n",
        "        if line.endswith(\"> wrote:\"):\n",
        "                continue\n",
        "        if line.startswith(\"Le \"):\n",
        "            continue\n",
        "        if line.endswith(\"?crit :\"):\n",
        "            continue\n",
        "        if line and not line.startswith('>'):\n",
        "            if line.startswith('-- ') or line.startswith('[') or line.startswith('_____'):\n",
        "                continue\n",
        "            temp_.append(line)\n",
        "    email_string = \"\\n\".join(temp_)\n",
        "    normalized_email_string = normalize_text(email_string)\n",
        "    return normalized_email_string\n",
        "\n",
        "\n",
        "def scrape_email_data(url_):\n",
        "    r = requests.get(url_)\n",
        "    body_soup = BeautifulSoup(r.content, 'html.parser').body\n",
        "    subject = body_soup.find('h1').text\n",
        "    author = body_soup.find('b').text\n",
        "    timestamp = body_soup.find('i').text\n",
        "    timestamp = parse(str(timestamp), fuzzy=True)\n",
        "    timestamp = timestamp.astimezone(pytz.utc).strftime('%Y-%m-%d %H:%M:%S')\n",
        "    email_body = body_soup.find('pre').text\n",
        "    normalized_email_body = preprocess_email(email_body)\n",
        "    return author, timestamp, normalize_text(subject), normalized_email_body\n",
        "\n",
        "def get_past_week_data(dataframe, current_time):\n",
        "    dt_now = current_time\n",
        "    dt_min = dt_now - datetime.timedelta(days=7)\n",
        "    dataframe['timestamp'] = pd.to_datetime(dataframe['timestamp'], utc=True)\n",
        "    sliced_df = dataframe[(dataframe['timestamp'] >= dt_min) & (dataframe['timestamp'] <= dt_now)]\n",
        "    sliced_df.dropna(inplace=True)\n",
        "    sliced_df.reset_index(drop=True, inplace=True)\n",
        "    return sliced_df\n",
        "    \n",
        "def get_datetime_format(dataframe):\n",
        "    date_list = []\n",
        "    for i, r in dataframe.iterrows():\n",
        "        date_string = str(r['date'])\n",
        "        date_string = date_string.replace(\"?\", \" \").strip()\n",
        "        date_list.append(date_string)\n",
        "    dataframe['date'] = date_list\n",
        "    dataframe['date'] = pd.to_datetime(dataframe['date'], utc=True)\n",
        "    dataframe['date'] = pd.to_datetime(dataframe['date'], format='%Y-%m-%d %H:%M:%S', utc=True)\n",
        "    dataframe['date'] = dataframe['date'].dt.strftime('%Y-%m-%d %H:%M:%S')\n",
        "    return dataframe"
      ],
      "metadata": {
        "colab": {
          "base_uri": "https://localhost:8080/"
        },
        "id": "MNXCbw6Qm_en",
        "outputId": "4e9e4de5-5750-435a-f8bf-c940183518ea"
      },
      "execution_count": 93,
      "outputs": [
        {
          "output_type": "stream",
          "name": "stdout",
          "text": [
            "time: 15.7 ms (started: 2023-03-03 11:43:30 +00:00)\n"
          ]
        }
      ]
    },
    {
      "cell_type": "markdown",
      "source": [
        "### GPT-3"
      ],
      "metadata": {
        "id": "Qtk0f8CX08nP"
      }
    },
    {
      "cell_type": "code",
      "source": [
        "def generate_summary(prompt):\n",
        "    summarization_prompt = f\"Generate a detailed summary from below context factfully without missing any important information. Do not use the word 'summary' in it.\\n\\n CONTEXT:\\n\\n{prompt}\"\n",
        "    response = openai.Completion.create(\n",
        "        model=COMPLETION_MODEL,\n",
        "        prompt=summarization_prompt,\n",
        "        temperature=0.7,\n",
        "        max_tokens=1000,\n",
        "        top_p=1.0,\n",
        "        frequency_penalty=0.0,\n",
        "        presence_penalty=1\n",
        "        )\n",
        "    response_str = response[\"choices\"][0][\"text\"].replace(\"\\n\", \"\").strip()\n",
        "    return response_str\n",
        "\n",
        "def consolidate_summary(prompt):\n",
        "    consolidate_prompt = f\"Consolidate below context.\\n\\n CONTEXT:\\n\\n{prompt}\"\n",
        "    response = openai.Completion.create(\n",
        "        model=COMPLETION_MODEL,\n",
        "        prompt=consolidate_prompt,\n",
        "        temperature=0.7,\n",
        "        max_tokens=1000,\n",
        "        top_p=1.0,\n",
        "        frequency_penalty=0.0,\n",
        "        presence_penalty=1\n",
        "        )\n",
        "    response_str = response[\"choices\"][0][\"text\"].replace(\"\\n\", \"\").strip()\n",
        "    return response_str\n",
        "\n",
        "def generate_title(prompt):\n",
        "    title_generation_prompt = f\"Generate an appropriate title for below context.\\n\\n CONTEXT:\\n\\n{prompt}\"\n",
        "    response = openai.Completion.create(\n",
        "        model=COMPLETION_MODEL,\n",
        "        prompt=title_generation_prompt,\n",
        "        temperature=0.7,\n",
        "        max_tokens=30,\n",
        "        top_p=1.0,\n",
        "        frequency_penalty=0.0,\n",
        "        presence_penalty=1\n",
        "        )\n",
        "    response_str = response[\"choices\"][0][\"text\"].replace(\"\\n\", \"\").strip()\n",
        "    return response_str"
      ],
      "metadata": {
        "colab": {
          "base_uri": "https://localhost:8080/"
        },
        "id": "jjP4OmZw06-n",
        "outputId": "7463c019-9759-40af-9c7e-4db8eb5d5ed0"
      },
      "execution_count": 94,
      "outputs": [
        {
          "output_type": "stream",
          "name": "stdout",
          "text": [
            "time: 4.3 ms (started: 2023-03-03 11:43:35 +00:00)\n"
          ]
        }
      ]
    },
    {
      "cell_type": "markdown",
      "source": [
        "### ChatGPT"
      ],
      "metadata": {
        "id": "mCq7zZBc1BNA"
      }
    },
    {
      "cell_type": "code",
      "source": [
        "def generate_chatgpt_summary(prompt):\n",
        "    summarization_prompt = f\"Generate a detailed summary from below context factfully without missing any important information. Do not use the word 'summary' in it.\\n\\n CONTEXT:\\n\\n{prompt}\"\n",
        "    response = openai.ChatCompletion.create(\n",
        "        model=\"gpt-4-1106-preview\",\n",
        "        messages=[\n",
        "                {\"role\": \"system\", \"content\": \"You are an intelligent assistant.\"},\n",
        "                {\"role\": \"user\", \"content\": f\"{summarization_prompt}\"},\n",
        "            ],\n",
        "        temperature=0.7,\n",
        "        max_tokens=1000,\n",
        "        top_p=1.0,\n",
        "        frequency_penalty=0.0,\n",
        "        presence_penalty=1\n",
        "        )\n",
        "    response_str = response['choices'][0]['message']['content'].replace(\"\\n\", \"\").strip()\n",
        "    return response_str\n",
        "\n",
        "def consolidate_chatgpt_summary(prompt):\n",
        "    consolidate_prompt = f\"Consolidate below context.\\n\\n CONTEXT:\\n\\n{prompt}\"\n",
        "    response = openai.ChatCompletion.create(\n",
        "        model=\"gpt-4-1106-preview\",\n",
        "        messages=[\n",
        "                {\"role\": \"system\", \"content\": \"You are an intelligent assistant.\"},\n",
        "                {\"role\": \"user\", \"content\": f\"{consolidate_prompt}\"},\n",
        "            ],\n",
        "        temperature=0.7,\n",
        "        max_tokens=1000,\n",
        "        top_p=1.0,\n",
        "        frequency_penalty=0.0,\n",
        "        presence_penalty=1\n",
        "        )\n",
        "    response_str = response['choices'][0]['message']['content'].replace(\"\\n\", \"\").strip()\n",
        "    return response_str\n",
        "\n",
        "def generate_chatgpt_title(prompt):\n",
        "    title_generation_prompt = f\"Generate an appropriate title for below context.\\n\\n CONTEXT:\\n\\n{prompt}\"\n",
        "    response = openai.ChatCompletion.create(\n",
        "        model=\"gpt-4-1106-preview\",\n",
        "        messages=[\n",
        "                {\"role\": \"system\", \"content\": \"You are an intelligent assistant.\"},\n",
        "                {\"role\": \"user\", \"content\": f\"{title_generation_prompt}\"},\n",
        "            ],\n",
        "        temperature=0.7,\n",
        "        max_tokens=1000,\n",
        "        top_p=1.0,\n",
        "        frequency_penalty=0.0,\n",
        "        presence_penalty=1\n",
        "        )\n",
        "    response_str = response['choices'][0]['message']['content'].replace(\"\\n\", \"\").strip()\n",
        "    return response_str"
      ],
      "metadata": {
        "colab": {
          "base_uri": "https://localhost:8080/"
        },
        "id": "4JH9yj3DuW_A",
        "outputId": "9ea54735-9cfa-4c1a-dde5-ebf88999c4a7"
      },
      "execution_count": 95,
      "outputs": [
        {
          "output_type": "stream",
          "name": "stdout",
          "text": [
            "time: 8.54 ms (started: 2023-03-03 11:43:36 +00:00)\n"
          ]
        }
      ]
    },
    {
      "cell_type": "markdown",
      "source": [
        "## Data Collection"
      ],
      "metadata": {
        "id": "XWQGMo7jbHLo"
      }
    },
    {
      "cell_type": "code",
      "source": [
        "def collect_email_urls(base_url):\n",
        "    urls_list = []\n",
        "    # add current month\n",
        "    month_route = f\"{CURRENT_TIME.strftime('%Y-%B')}\"\n",
        "    email_thread_url = f\"{base_url}/{month_route}/\"\n",
        "    urls_list.append(email_thread_url)\n",
        "\n",
        "    # if current month is not past 7 days, add previous month as well\n",
        "    if CURRENT_TIME.day < 7:\n",
        "        prev_month = (CURRENT_TIME - relativedelta(months=1)).strftime('%Y-%B')\n",
        "        email_thread_url = f\"{base_url}/{prev_month}/\"\n",
        "        urls_list.append(email_thread_url)\n",
        "\n",
        "    all_email_urls = []\n",
        "    for base_url in urls_list:\n",
        "        print(f\"working on: {base_url}\")\n",
        "        scrape_url = \"date.html\"\n",
        "        r = requests.get(base_url + scrape_url)\n",
        "        soup = BeautifulSoup(r.content, 'html.parser')\n",
        "        if soup.body:\n",
        "            ul_soup = soup.body.findAll('ul')[1]\n",
        "            li_rows = ul_soup.findAll('li')\n",
        "\n",
        "            # get all emails urls\n",
        "            email_urls = [base_url + str(i.a['href']).strip() for i in li_rows]\n",
        "            all_email_urls.extend(email_urls)\n",
        "\n",
        "    print(f\"Fetched Urls: {len(all_email_urls)}\")\n",
        "    return all_email_urls\n",
        "\n",
        "\n",
        "\n",
        "def scrape_email_urls(email_urls_list):\n",
        "    df_list = []\n",
        "    for i in tqdm(email_urls_list):\n",
        "        auth_, timestamp_, sub_, email_ = scrape_email_data(i)\n",
        "        df_dict = {\n",
        "            \"timestamp\": timestamp_,\n",
        "            \"author\": auth_,\n",
        "            \"subject\": sub_,\n",
        "            \"email\": email_,\n",
        "            \"email_url\": i,\n",
        "        }\n",
        "        df_list.append(df_dict)\n",
        "    # data frame of all emails\n",
        "    emails_df = pd.DataFrame(df_list)\n",
        "\n",
        "    # filter dataframe to get last week's data only\n",
        "    df_week = get_past_week_data(emails_df, CURRENT_TIME)\n",
        "    df_week['tokens'] = df_week['email'].apply(lambda x: len(tokenizer.encode(x)))\n",
        "\n",
        "    os.makedirs(\"output\", exist_ok=True)\n",
        "    df_week.to_csv(f\"output/df_week_{CURRENT_TIMESTAMP}.csv\", index=False)\n",
        "    return df_week"
      ],
      "metadata": {
        "colab": {
          "base_uri": "https://localhost:8080/"
        },
        "id": "94mtdj1FEhZm",
        "outputId": "b2f9be68-b013-4bdb-e6d5-3c146a80af8c"
      },
      "execution_count": 96,
      "outputs": [
        {
          "output_type": "stream",
          "name": "stdout",
          "text": [
            "time: 5.26 ms (started: 2023-03-03 11:43:38 +00:00)\n"
          ]
        }
      ]
    },
    {
      "cell_type": "code",
      "source": [
        "all_email_urls = collect_email_urls(\"https://lists.linuxfoundation.org/pipermail/bitcoin-dev\")"
      ],
      "metadata": {
        "colab": {
          "base_uri": "https://localhost:8080/"
        },
        "id": "NlMBXkdLEpxo",
        "outputId": "55d71419-c6b8-47b7-c409-ab69db3ef14f"
      },
      "execution_count": 75,
      "outputs": [
        {
          "output_type": "stream",
          "name": "stdout",
          "text": [
            "working on: https://lists.linuxfoundation.org/pipermail/bitcoin-dev/2023-March/\n",
            "working on: https://lists.linuxfoundation.org/pipermail/bitcoin-dev/2023-February/\n",
            "Fetched Urls: 136\n",
            "time: 1.06 s (started: 2023-03-03 11:02:41 +00:00)\n"
          ]
        }
      ]
    },
    {
      "cell_type": "code",
      "source": [
        "df_week = scrape_email_urls(all_email_urls)"
      ],
      "metadata": {
        "colab": {
          "base_uri": "https://localhost:8080/"
        },
        "id": "DfPmQ8BRGTYH",
        "outputId": "0e189727-e3ab-4ba5-cbc8-2b1550da8ded"
      },
      "execution_count": 76,
      "outputs": [
        {
          "output_type": "stream",
          "name": "stderr",
          "text": [
            "100%|██████████| 136/136 [01:02<00:00,  2.19it/s]"
          ]
        },
        {
          "output_type": "stream",
          "name": "stdout",
          "text": [
            "time: 1min 2s (started: 2023-03-03 11:02:42 +00:00)\n"
          ]
        },
        {
          "output_type": "stream",
          "name": "stderr",
          "text": [
            "\n",
            "/usr/local/lib/python3.8/dist-packages/pandas/util/_decorators.py:311: SettingWithCopyWarning: \n",
            "A value is trying to be set on a copy of a slice from a DataFrame\n",
            "\n",
            "See the caveats in the documentation: https://pandas.pydata.org/pandas-docs/stable/user_guide/indexing.html#returning-a-view-versus-a-copy\n",
            "  return func(*args, **kwargs)\n",
            "<ipython-input-74-a9987442d6f7>:50: SettingWithCopyWarning: \n",
            "A value is trying to be set on a copy of a slice from a DataFrame.\n",
            "Try using .loc[row_indexer,col_indexer] = value instead\n",
            "\n",
            "See the caveats in the documentation: https://pandas.pydata.org/pandas-docs/stable/user_guide/indexing.html#returning-a-view-versus-a-copy\n",
            "  df_week['tokens'] = df_week['email'].apply(lambda x: len(tokenizer.encode(x)))\n"
          ]
        }
      ]
    },
    {
      "cell_type": "code",
      "source": [
        "df_week"
      ],
      "metadata": {
        "colab": {
          "base_uri": "https://localhost:8080/",
          "height": 890
        },
        "id": "TRuABQlaGhkk",
        "outputId": "317d7c73-833f-455b-83ba-81d2c72dee87"
      },
      "execution_count": 77,
      "outputs": [
        {
          "output_type": "execute_result",
          "data": {
            "text/plain": [
              "                   timestamp                  author  \\\n",
              "0  2023-03-01 15:05:47+00:00            Greg Sanders   \n",
              "1  2023-03-01 17:17:58+00:00        David A. Harding   \n",
              "2  2023-03-01 20:18:22+00:00              Giuseppe B   \n",
              "3  2023-03-02 00:39:13+00:00              Nadav Ivgi   \n",
              "4  2023-03-02 04:46:25+00:00           Anthony Towns   \n",
              "5  2023-03-02 06:55:19+00:00            kcalvinalvin   \n",
              "6  2023-03-02 14:54:31+00:00            Greg Sanders   \n",
              "7  2023-03-02 18:20:35+00:00             Luke Dashjr   \n",
              "8  2023-03-02 19:51:17+00:00  Andrew Melnychuk Oseen   \n",
              "9  2023-03-02 21:05:26+00:00              Peter Todd   \n",
              "10 2023-03-02 22:27:40+00:00          jk_14 at op.pl   \n",
              "11 2023-02-27 13:32:01+00:00      Rastislav Budinsky   \n",
              "12 2023-02-27 21:41:35+00:00               HcaFc_jbe   \n",
              "13 2023-02-28 10:02:47+00:00           shymaa arafat   \n",
              "14 2023-02-28 18:07:06+00:00                 Dhruv M   \n",
              "15 2023-02-28 21:02:41+00:00           Erik Aronesty   \n",
              "\n",
              "                                              subject  \\\n",
              "0                      [bitcoin-dev] BIP for OP_VAULT   \n",
              "1   [bitcoin-dev] BIP proposal: Fee-redistribution...   \n",
              "2                          [bitcoin-dev] Minimum fees   \n",
              "3                          [bitcoin-dev] Minimum fees   \n",
              "4                      [bitcoin-dev] BIP for OP_VAULT   \n",
              "5   [bitcoin-dev] Using service bit 24 for utreexo...   \n",
              "6                      [bitcoin-dev] BIP for OP_VAULT   \n",
              "7   [bitcoin-dev] Using service bit 24 for utreexo...   \n",
              "8                      [bitcoin-dev] BIP for OP_VAULT   \n",
              "9   [bitcoin-dev] Using service bit 24 for utreexo...   \n",
              "10                         [bitcoin-dev] Minimum fees   \n",
              "11  [bitcoin-dev] BIP proposal: Fee-redistribution...   \n",
              "12  [bitcoin-dev] BIP proposal: Fee-redistribution...   \n",
              "13  [bitcoin-dev] BIP proposal: Fee-redistribution...   \n",
              "14                     [bitcoin-dev] Refreshed BIP324   \n",
              "15                     [bitcoin-dev] Refreshed BIP324   \n",
              "\n",
              "                                                email  \\\n",
              "0   Hello James, First off, thank you for crafting...   \n",
              "1   On 2023 02 27 03:32, Rastislav Budinsky via bi...   \n",
              "2   Hello everyone, I'm relatively new here so wha...   \n",
              "3   Hi Giuseppe, One side effect this has is that ...   \n",
              "4   I like this! I tried to come up with something...   \n",
              "5   Hello all, Wanted to tell the mailing list tha...   \n",
              "6   Greetings AJ, Glad I could resurrect the idea!...   \n",
              "7   This sounds like something that should be writ...   \n",
              "8   I read the draft and this seems to have some f...   \n",
              "9   The purpose of the experimental service bits i...   \n",
              "10  The important thing to highlight is that's not...   \n",
              "11  Hello, I am working on my Bachelor's thesis, i...   \n",
              "12  Greetings, Brno is a beautiful city. Long term...   \n",
              "13  If you allow me to comment (just with a bird e...   \n",
              "14  The relevant changes from this discussion abou...   \n",
              "15  you can always do what protocols usually do. 1...   \n",
              "\n",
              "                                            email_url  tokens  \n",
              "0   https://lists.linuxfoundation.org/pipermail/bi...    1044  \n",
              "1   https://lists.linuxfoundation.org/pipermail/bi...     540  \n",
              "2   https://lists.linuxfoundation.org/pipermail/bi...     402  \n",
              "3   https://lists.linuxfoundation.org/pipermail/bi...     148  \n",
              "4   https://lists.linuxfoundation.org/pipermail/bi...     702  \n",
              "5   https://lists.linuxfoundation.org/pipermail/bi...     174  \n",
              "6   https://lists.linuxfoundation.org/pipermail/bi...     518  \n",
              "7   https://lists.linuxfoundation.org/pipermail/bi...      44  \n",
              "8   https://lists.linuxfoundation.org/pipermail/bi...     314  \n",
              "9   https://lists.linuxfoundation.org/pipermail/bi...     129  \n",
              "10  https://lists.linuxfoundation.org/pipermail/bi...     793  \n",
              "11  https://lists.linuxfoundation.org/pipermail/bi...     421  \n",
              "12  https://lists.linuxfoundation.org/pipermail/bi...     530  \n",
              "13  https://lists.linuxfoundation.org/pipermail/bi...     225  \n",
              "14  https://lists.linuxfoundation.org/pipermail/bi...      58  \n",
              "15  https://lists.linuxfoundation.org/pipermail/bi...      74  "
            ],
            "text/html": [
              "\n",
              "  <div id=\"df-fcd59f96-c9b4-406c-a195-508e19165992\">\n",
              "    <div class=\"colab-df-container\">\n",
              "      <div>\n",
              "<style scoped>\n",
              "    .dataframe tbody tr th:only-of-type {\n",
              "        vertical-align: middle;\n",
              "    }\n",
              "\n",
              "    .dataframe tbody tr th {\n",
              "        vertical-align: top;\n",
              "    }\n",
              "\n",
              "    .dataframe thead th {\n",
              "        text-align: right;\n",
              "    }\n",
              "</style>\n",
              "<table border=\"1\" class=\"dataframe\">\n",
              "  <thead>\n",
              "    <tr style=\"text-align: right;\">\n",
              "      <th></th>\n",
              "      <th>timestamp</th>\n",
              "      <th>author</th>\n",
              "      <th>subject</th>\n",
              "      <th>email</th>\n",
              "      <th>email_url</th>\n",
              "      <th>tokens</th>\n",
              "    </tr>\n",
              "  </thead>\n",
              "  <tbody>\n",
              "    <tr>\n",
              "      <th>0</th>\n",
              "      <td>2023-03-01 15:05:47+00:00</td>\n",
              "      <td>Greg Sanders</td>\n",
              "      <td>[bitcoin-dev] BIP for OP_VAULT</td>\n",
              "      <td>Hello James, First off, thank you for crafting...</td>\n",
              "      <td>https://lists.linuxfoundation.org/pipermail/bi...</td>\n",
              "      <td>1044</td>\n",
              "    </tr>\n",
              "    <tr>\n",
              "      <th>1</th>\n",
              "      <td>2023-03-01 17:17:58+00:00</td>\n",
              "      <td>David A. Harding</td>\n",
              "      <td>[bitcoin-dev] BIP proposal: Fee-redistribution...</td>\n",
              "      <td>On 2023 02 27 03:32, Rastislav Budinsky via bi...</td>\n",
              "      <td>https://lists.linuxfoundation.org/pipermail/bi...</td>\n",
              "      <td>540</td>\n",
              "    </tr>\n",
              "    <tr>\n",
              "      <th>2</th>\n",
              "      <td>2023-03-01 20:18:22+00:00</td>\n",
              "      <td>Giuseppe B</td>\n",
              "      <td>[bitcoin-dev] Minimum fees</td>\n",
              "      <td>Hello everyone, I'm relatively new here so wha...</td>\n",
              "      <td>https://lists.linuxfoundation.org/pipermail/bi...</td>\n",
              "      <td>402</td>\n",
              "    </tr>\n",
              "    <tr>\n",
              "      <th>3</th>\n",
              "      <td>2023-03-02 00:39:13+00:00</td>\n",
              "      <td>Nadav Ivgi</td>\n",
              "      <td>[bitcoin-dev] Minimum fees</td>\n",
              "      <td>Hi Giuseppe, One side effect this has is that ...</td>\n",
              "      <td>https://lists.linuxfoundation.org/pipermail/bi...</td>\n",
              "      <td>148</td>\n",
              "    </tr>\n",
              "    <tr>\n",
              "      <th>4</th>\n",
              "      <td>2023-03-02 04:46:25+00:00</td>\n",
              "      <td>Anthony Towns</td>\n",
              "      <td>[bitcoin-dev] BIP for OP_VAULT</td>\n",
              "      <td>I like this! I tried to come up with something...</td>\n",
              "      <td>https://lists.linuxfoundation.org/pipermail/bi...</td>\n",
              "      <td>702</td>\n",
              "    </tr>\n",
              "    <tr>\n",
              "      <th>5</th>\n",
              "      <td>2023-03-02 06:55:19+00:00</td>\n",
              "      <td>kcalvinalvin</td>\n",
              "      <td>[bitcoin-dev] Using service bit 24 for utreexo...</td>\n",
              "      <td>Hello all, Wanted to tell the mailing list tha...</td>\n",
              "      <td>https://lists.linuxfoundation.org/pipermail/bi...</td>\n",
              "      <td>174</td>\n",
              "    </tr>\n",
              "    <tr>\n",
              "      <th>6</th>\n",
              "      <td>2023-03-02 14:54:31+00:00</td>\n",
              "      <td>Greg Sanders</td>\n",
              "      <td>[bitcoin-dev] BIP for OP_VAULT</td>\n",
              "      <td>Greetings AJ, Glad I could resurrect the idea!...</td>\n",
              "      <td>https://lists.linuxfoundation.org/pipermail/bi...</td>\n",
              "      <td>518</td>\n",
              "    </tr>\n",
              "    <tr>\n",
              "      <th>7</th>\n",
              "      <td>2023-03-02 18:20:35+00:00</td>\n",
              "      <td>Luke Dashjr</td>\n",
              "      <td>[bitcoin-dev] Using service bit 24 for utreexo...</td>\n",
              "      <td>This sounds like something that should be writ...</td>\n",
              "      <td>https://lists.linuxfoundation.org/pipermail/bi...</td>\n",
              "      <td>44</td>\n",
              "    </tr>\n",
              "    <tr>\n",
              "      <th>8</th>\n",
              "      <td>2023-03-02 19:51:17+00:00</td>\n",
              "      <td>Andrew Melnychuk Oseen</td>\n",
              "      <td>[bitcoin-dev] BIP for OP_VAULT</td>\n",
              "      <td>I read the draft and this seems to have some f...</td>\n",
              "      <td>https://lists.linuxfoundation.org/pipermail/bi...</td>\n",
              "      <td>314</td>\n",
              "    </tr>\n",
              "    <tr>\n",
              "      <th>9</th>\n",
              "      <td>2023-03-02 21:05:26+00:00</td>\n",
              "      <td>Peter Todd</td>\n",
              "      <td>[bitcoin-dev] Using service bit 24 for utreexo...</td>\n",
              "      <td>The purpose of the experimental service bits i...</td>\n",
              "      <td>https://lists.linuxfoundation.org/pipermail/bi...</td>\n",
              "      <td>129</td>\n",
              "    </tr>\n",
              "    <tr>\n",
              "      <th>10</th>\n",
              "      <td>2023-03-02 22:27:40+00:00</td>\n",
              "      <td>jk_14 at op.pl</td>\n",
              "      <td>[bitcoin-dev] Minimum fees</td>\n",
              "      <td>The important thing to highlight is that's not...</td>\n",
              "      <td>https://lists.linuxfoundation.org/pipermail/bi...</td>\n",
              "      <td>793</td>\n",
              "    </tr>\n",
              "    <tr>\n",
              "      <th>11</th>\n",
              "      <td>2023-02-27 13:32:01+00:00</td>\n",
              "      <td>Rastislav Budinsky</td>\n",
              "      <td>[bitcoin-dev] BIP proposal: Fee-redistribution...</td>\n",
              "      <td>Hello, I am working on my Bachelor's thesis, i...</td>\n",
              "      <td>https://lists.linuxfoundation.org/pipermail/bi...</td>\n",
              "      <td>421</td>\n",
              "    </tr>\n",
              "    <tr>\n",
              "      <th>12</th>\n",
              "      <td>2023-02-27 21:41:35+00:00</td>\n",
              "      <td>HcaFc_jbe</td>\n",
              "      <td>[bitcoin-dev] BIP proposal: Fee-redistribution...</td>\n",
              "      <td>Greetings, Brno is a beautiful city. Long term...</td>\n",
              "      <td>https://lists.linuxfoundation.org/pipermail/bi...</td>\n",
              "      <td>530</td>\n",
              "    </tr>\n",
              "    <tr>\n",
              "      <th>13</th>\n",
              "      <td>2023-02-28 10:02:47+00:00</td>\n",
              "      <td>shymaa arafat</td>\n",
              "      <td>[bitcoin-dev] BIP proposal: Fee-redistribution...</td>\n",
              "      <td>If you allow me to comment (just with a bird e...</td>\n",
              "      <td>https://lists.linuxfoundation.org/pipermail/bi...</td>\n",
              "      <td>225</td>\n",
              "    </tr>\n",
              "    <tr>\n",
              "      <th>14</th>\n",
              "      <td>2023-02-28 18:07:06+00:00</td>\n",
              "      <td>Dhruv M</td>\n",
              "      <td>[bitcoin-dev] Refreshed BIP324</td>\n",
              "      <td>The relevant changes from this discussion abou...</td>\n",
              "      <td>https://lists.linuxfoundation.org/pipermail/bi...</td>\n",
              "      <td>58</td>\n",
              "    </tr>\n",
              "    <tr>\n",
              "      <th>15</th>\n",
              "      <td>2023-02-28 21:02:41+00:00</td>\n",
              "      <td>Erik Aronesty</td>\n",
              "      <td>[bitcoin-dev] Refreshed BIP324</td>\n",
              "      <td>you can always do what protocols usually do. 1...</td>\n",
              "      <td>https://lists.linuxfoundation.org/pipermail/bi...</td>\n",
              "      <td>74</td>\n",
              "    </tr>\n",
              "  </tbody>\n",
              "</table>\n",
              "</div>\n",
              "      <button class=\"colab-df-convert\" onclick=\"convertToInteractive('df-fcd59f96-c9b4-406c-a195-508e19165992')\"\n",
              "              title=\"Convert this dataframe to an interactive table.\"\n",
              "              style=\"display:none;\">\n",
              "        \n",
              "  <svg xmlns=\"http://www.w3.org/2000/svg\" height=\"24px\"viewBox=\"0 0 24 24\"\n",
              "       width=\"24px\">\n",
              "    <path d=\"M0 0h24v24H0V0z\" fill=\"none\"/>\n",
              "    <path d=\"M18.56 5.44l.94 2.06.94-2.06 2.06-.94-2.06-.94-.94-2.06-.94 2.06-2.06.94zm-11 1L8.5 8.5l.94-2.06 2.06-.94-2.06-.94L8.5 2.5l-.94 2.06-2.06.94zm10 10l.94 2.06.94-2.06 2.06-.94-2.06-.94-.94-2.06-.94 2.06-2.06.94z\"/><path d=\"M17.41 7.96l-1.37-1.37c-.4-.4-.92-.59-1.43-.59-.52 0-1.04.2-1.43.59L10.3 9.45l-7.72 7.72c-.78.78-.78 2.05 0 2.83L4 21.41c.39.39.9.59 1.41.59.51 0 1.02-.2 1.41-.59l7.78-7.78 2.81-2.81c.8-.78.8-2.07 0-2.86zM5.41 20L4 18.59l7.72-7.72 1.47 1.35L5.41 20z\"/>\n",
              "  </svg>\n",
              "      </button>\n",
              "      \n",
              "  <style>\n",
              "    .colab-df-container {\n",
              "      display:flex;\n",
              "      flex-wrap:wrap;\n",
              "      gap: 12px;\n",
              "    }\n",
              "\n",
              "    .colab-df-convert {\n",
              "      background-color: #E8F0FE;\n",
              "      border: none;\n",
              "      border-radius: 50%;\n",
              "      cursor: pointer;\n",
              "      display: none;\n",
              "      fill: #1967D2;\n",
              "      height: 32px;\n",
              "      padding: 0 0 0 0;\n",
              "      width: 32px;\n",
              "    }\n",
              "\n",
              "    .colab-df-convert:hover {\n",
              "      background-color: #E2EBFA;\n",
              "      box-shadow: 0px 1px 2px rgba(60, 64, 67, 0.3), 0px 1px 3px 1px rgba(60, 64, 67, 0.15);\n",
              "      fill: #174EA6;\n",
              "    }\n",
              "\n",
              "    [theme=dark] .colab-df-convert {\n",
              "      background-color: #3B4455;\n",
              "      fill: #D2E3FC;\n",
              "    }\n",
              "\n",
              "    [theme=dark] .colab-df-convert:hover {\n",
              "      background-color: #434B5C;\n",
              "      box-shadow: 0px 1px 3px 1px rgba(0, 0, 0, 0.15);\n",
              "      filter: drop-shadow(0px 1px 2px rgba(0, 0, 0, 0.3));\n",
              "      fill: #FFFFFF;\n",
              "    }\n",
              "  </style>\n",
              "\n",
              "      <script>\n",
              "        const buttonEl =\n",
              "          document.querySelector('#df-fcd59f96-c9b4-406c-a195-508e19165992 button.colab-df-convert');\n",
              "        buttonEl.style.display =\n",
              "          google.colab.kernel.accessAllowed ? 'block' : 'none';\n",
              "\n",
              "        async function convertToInteractive(key) {\n",
              "          const element = document.querySelector('#df-fcd59f96-c9b4-406c-a195-508e19165992');\n",
              "          const dataTable =\n",
              "            await google.colab.kernel.invokeFunction('convertToInteractive',\n",
              "                                                     [key], {});\n",
              "          if (!dataTable) return;\n",
              "\n",
              "          const docLinkHtml = 'Like what you see? Visit the ' +\n",
              "            '<a target=\"_blank\" href=https://colab.research.google.com/notebooks/data_table.ipynb>data table notebook</a>'\n",
              "            + ' to learn more about interactive tables.';\n",
              "          element.innerHTML = '';\n",
              "          dataTable['output_type'] = 'display_data';\n",
              "          await google.colab.output.renderOutput(dataTable, element);\n",
              "          const docLink = document.createElement('div');\n",
              "          docLink.innerHTML = docLinkHtml;\n",
              "          element.appendChild(docLink);\n",
              "        }\n",
              "      </script>\n",
              "    </div>\n",
              "  </div>\n",
              "  "
            ]
          },
          "metadata": {},
          "execution_count": 77
        },
        {
          "output_type": "stream",
          "name": "stdout",
          "text": [
            "time: 41 ms (started: 2023-03-03 11:03:44 +00:00)\n"
          ]
        }
      ]
    },
    {
      "cell_type": "markdown",
      "source": [
        "## Data Generation"
      ],
      "metadata": {
        "id": "ZUUO4wrW-2yq"
      }
    },
    {
      "cell_type": "code",
      "source": [
        "def get_email_thread_data(sub_df):\n",
        "    sub_df.sort_values(by='timestamp', ascending=True, inplace=True)\n",
        "    sub_df.dropna(inplace=True)\n",
        "    sub_df.reset_index(drop=True, inplace=True)\n",
        "\n",
        "    first_post_date = \"\"\n",
        "    subject = \"\"\n",
        "    num_of_replies = sub_df.shape[0]\n",
        "    author = []\n",
        "    urls = []\n",
        "    generated_summary = []\n",
        "    consolidated_summary = \"\"\n",
        "    consolidated_title = \"\"\n",
        "\n",
        "    for i, r in tqdm(sub_df.iterrows(), total=sub_df.shape[0]):\n",
        "        if i == 0:\n",
        "            first_post_date += (r.timestamp).strftime('%Y-%m-%d %H:%M:%S')\n",
        "            subject += r.subject\n",
        "        email_text = r.email\n",
        "        auth = r.author\n",
        "        url = r.email_url\n",
        "\n",
        "        if CHATGPT:\n",
        "            summary_ = generate_chatgpt_summary(email_text)\n",
        "        else:\n",
        "            summary_ = generate_summary(email_text)\n",
        "\n",
        "        author.append(auth)\n",
        "        urls.append(url)\n",
        "        generated_summary.append(summary_)\n",
        "    \n",
        "    # consolidated summary\n",
        "    summary_concat = \"\\n\".join(generated_summary)\n",
        "\n",
        "    if CHATGPT:\n",
        "        consolidated_summary += consolidate_chatgpt_summary(summary_concat)\n",
        "        consolidated_title += generate_chatgpt_title(summary_concat)\n",
        "    else:\n",
        "        consolidated_summary += consolidate_summary(summary_concat)\n",
        "        consolidated_title += generate_title(summary_concat)\n",
        "    \n",
        "\n",
        "    data_dict = {\n",
        "        \"date\": first_post_date,\n",
        "        \"subject\": subject,\n",
        "        \"num_replies\": num_of_replies,\n",
        "        \"authors\": author,\n",
        "        \"urls\": urls,\n",
        "        \"generated_summaries\": generated_summary,\n",
        "        \"consolidated_title\": consolidated_title,\n",
        "        \"consolidated_summary\": consolidated_summary\n",
        "    }\n",
        "    return data_dict"
      ],
      "metadata": {
        "colab": {
          "base_uri": "https://localhost:8080/"
        },
        "id": "389DG0P_NRKt",
        "outputId": "ab9384dc-9193-4e2f-e2b2-e54ccc3196b2"
      },
      "execution_count": 97,
      "outputs": [
        {
          "output_type": "stream",
          "name": "stdout",
          "text": [
            "time: 3.72 ms (started: 2023-03-03 11:43:43 +00:00)\n"
          ]
        }
      ]
    },
    {
      "cell_type": "code",
      "source": [
        "def generate_newsletter_completion(df):\n",
        "    grouped_df = df_week.groupby('subject')\n",
        "    print(f\"Number of threads found: {len(grouped_df)}\")\n",
        "    print(\"-----\")\n",
        "\n",
        "    data_records = []\n",
        "    for index, sub_df in grouped_df:\n",
        "        print(f\"working on subject: {index}\")\n",
        "        data_dict = get_email_thread_data(sub_df)\n",
        "        data_records.append(data_dict)\n",
        "        print(\"-----\")\n",
        "\n",
        "    df_week_generated = pd.DataFrame(data_records)\n",
        "    os.makedirs(\"output\", exist_ok=True)\n",
        "    df_week_generated.to_csv(f\"output/df_week_generated_{CURRENT_TIMESTAMP}.csv\", index=False)\n",
        "    return df_week_generated"
      ],
      "metadata": {
        "colab": {
          "base_uri": "https://localhost:8080/"
        },
        "id": "Qd61_2UHH47N",
        "outputId": "805bcc3a-4fc4-47d1-aed7-ca96f4385595"
      },
      "execution_count": 98,
      "outputs": [
        {
          "output_type": "stream",
          "name": "stdout",
          "text": [
            "time: 4.46 ms (started: 2023-03-03 11:43:44 +00:00)\n"
          ]
        }
      ]
    },
    {
      "cell_type": "code",
      "source": [
        "df_week_generated = generate_newsletter_completion(df_week)"
      ],
      "metadata": {
        "colab": {
          "base_uri": "https://localhost:8080/"
        },
        "id": "JXLTjNL2IZTO",
        "outputId": "bf184dde-8966-4308-8d9a-1d4cf33c7ae2"
      },
      "execution_count": 80,
      "outputs": [
        {
          "output_type": "stream",
          "name": "stdout",
          "text": [
            "Number of threads found: 5\n",
            "-----\n",
            "working on subject: [bitcoin-dev] BIP for OP_VAULT\n"
          ]
        },
        {
          "output_type": "stream",
          "name": "stderr",
          "text": [
            "100%|██████████| 4/4 [00:18<00:00,  4.65s/it]\n"
          ]
        },
        {
          "output_type": "stream",
          "name": "stdout",
          "text": [
            "-----\n",
            "working on subject: [bitcoin-dev] BIP proposal: Fee-redistribution contracts\n"
          ]
        },
        {
          "output_type": "stream",
          "name": "stderr",
          "text": [
            "100%|██████████| 4/4 [00:12<00:00,  3.01s/it]\n"
          ]
        },
        {
          "output_type": "stream",
          "name": "stdout",
          "text": [
            "-----\n",
            "working on subject: [bitcoin-dev] Minimum fees\n"
          ]
        },
        {
          "output_type": "stream",
          "name": "stderr",
          "text": [
            "100%|██████████| 3/3 [00:09<00:00,  3.12s/it]\n"
          ]
        },
        {
          "output_type": "stream",
          "name": "stdout",
          "text": [
            "-----\n",
            "working on subject: [bitcoin-dev] Refreshed BIP324\n"
          ]
        },
        {
          "output_type": "stream",
          "name": "stderr",
          "text": [
            "100%|██████████| 2/2 [00:03<00:00,  1.82s/it]\n"
          ]
        },
        {
          "output_type": "stream",
          "name": "stdout",
          "text": [
            "-----\n",
            "working on subject: [bitcoin-dev] Using service bit 24 for utreexo signaling in testnet and signet\n"
          ]
        },
        {
          "output_type": "stream",
          "name": "stderr",
          "text": [
            "100%|██████████| 3/3 [00:05<00:00,  1.72s/it]\n"
          ]
        },
        {
          "output_type": "stream",
          "name": "stdout",
          "text": [
            "-----\n",
            "time: 1min 13s (started: 2023-03-03 11:03:44 +00:00)\n"
          ]
        }
      ]
    },
    {
      "cell_type": "code",
      "source": [
        "df_week_generated"
      ],
      "metadata": {
        "colab": {
          "base_uri": "https://localhost:8080/",
          "height": 582
        },
        "id": "EjglVMtHO1MC",
        "outputId": "29aabf21-2399-49a1-f6e5-3df75ec0b59f"
      },
      "execution_count": 81,
      "outputs": [
        {
          "output_type": "execute_result",
          "data": {
            "text/plain": [
              "                  date                                            subject  \\\n",
              "0  2023-03-01 15:05:47                     [bitcoin-dev] BIP for OP_VAULT   \n",
              "1  2023-02-27 13:32:01  [bitcoin-dev] BIP proposal: Fee-redistribution...   \n",
              "2  2023-03-01 20:18:22                         [bitcoin-dev] Minimum fees   \n",
              "3  2023-02-28 18:07:06                     [bitcoin-dev] Refreshed BIP324   \n",
              "4  2023-03-02 06:55:19  [bitcoin-dev] Using service bit 24 for utreexo...   \n",
              "\n",
              "   num_replies                                            authors  \\\n",
              "0            4  [Greg Sanders, Anthony Towns, Greg Sanders, An...   \n",
              "1            4  [Rastislav Budinsky, HcaFc_jbe, shymaa arafat,...   \n",
              "2            3           [Giuseppe B, Nadav Ivgi, jk_14 at op.pl]   \n",
              "3            2                           [Dhruv M, Erik Aronesty]   \n",
              "4            3            [kcalvinalvin, Luke Dashjr, Peter Todd]   \n",
              "\n",
              "                                                urls  \\\n",
              "0  [https://lists.linuxfoundation.org/pipermail/b...   \n",
              "1  [https://lists.linuxfoundation.org/pipermail/b...   \n",
              "2  [https://lists.linuxfoundation.org/pipermail/b...   \n",
              "3  [https://lists.linuxfoundation.org/pipermail/b...   \n",
              "4  [https://lists.linuxfoundation.org/pipermail/b...   \n",
              "\n",
              "                                 generated_summaries  \\\n",
              "0  [The email is from Greg, who is responding to ...   \n",
              "1  [The author of a Bachelor's thesis proposes a ...   \n",
              "2  [In this proposal, the author suggests a new p...   \n",
              "3  [The discussion regarding the use of short 1-b...   \n",
              "4  [The writer of the email plans to use service ...   \n",
              "\n",
              "                                  consolidated_title  \\\n",
              "0  \"Proposed Modifications to TLUV-ish Script for...   \n",
              "1  Proposals for Redistributing Transaction Fees ...   \n",
              "2  \"Exploring the Implementation of Min_Fees Prot...   \n",
              "3  \"Bitcoin Development Team Implements Changes t...   \n",
              "4  \"Using Service Bit 24 for Utreexo Capable Node...   \n",
              "\n",
              "                                consolidated_summary  \n",
              "0  Context 1: Greg is responding to James' idea a...  \n",
              "1  The Bachelor's thesis proposes a fee redistrib...  \n",
              "2  The proposal suggests a new protocol rule call...  \n",
              "3  The bitcoin development team has implemented c...  \n",
              "4  The email writer plans to use service bit 24 t...  "
            ],
            "text/html": [
              "\n",
              "  <div id=\"df-a46e4635-ead1-47ca-815e-b8e944f1df37\">\n",
              "    <div class=\"colab-df-container\">\n",
              "      <div>\n",
              "<style scoped>\n",
              "    .dataframe tbody tr th:only-of-type {\n",
              "        vertical-align: middle;\n",
              "    }\n",
              "\n",
              "    .dataframe tbody tr th {\n",
              "        vertical-align: top;\n",
              "    }\n",
              "\n",
              "    .dataframe thead th {\n",
              "        text-align: right;\n",
              "    }\n",
              "</style>\n",
              "<table border=\"1\" class=\"dataframe\">\n",
              "  <thead>\n",
              "    <tr style=\"text-align: right;\">\n",
              "      <th></th>\n",
              "      <th>date</th>\n",
              "      <th>subject</th>\n",
              "      <th>num_replies</th>\n",
              "      <th>authors</th>\n",
              "      <th>urls</th>\n",
              "      <th>generated_summaries</th>\n",
              "      <th>consolidated_title</th>\n",
              "      <th>consolidated_summary</th>\n",
              "    </tr>\n",
              "  </thead>\n",
              "  <tbody>\n",
              "    <tr>\n",
              "      <th>0</th>\n",
              "      <td>2023-03-01 15:05:47</td>\n",
              "      <td>[bitcoin-dev] BIP for OP_VAULT</td>\n",
              "      <td>4</td>\n",
              "      <td>[Greg Sanders, Anthony Towns, Greg Sanders, An...</td>\n",
              "      <td>[https://lists.linuxfoundation.org/pipermail/b...</td>\n",
              "      <td>[The email is from Greg, who is responding to ...</td>\n",
              "      <td>\"Proposed Modifications to TLUV-ish Script for...</td>\n",
              "      <td>Context 1: Greg is responding to James' idea a...</td>\n",
              "    </tr>\n",
              "    <tr>\n",
              "      <th>1</th>\n",
              "      <td>2023-02-27 13:32:01</td>\n",
              "      <td>[bitcoin-dev] BIP proposal: Fee-redistribution...</td>\n",
              "      <td>4</td>\n",
              "      <td>[Rastislav Budinsky, HcaFc_jbe, shymaa arafat,...</td>\n",
              "      <td>[https://lists.linuxfoundation.org/pipermail/b...</td>\n",
              "      <td>[The author of a Bachelor's thesis proposes a ...</td>\n",
              "      <td>Proposals for Redistributing Transaction Fees ...</td>\n",
              "      <td>The Bachelor's thesis proposes a fee redistrib...</td>\n",
              "    </tr>\n",
              "    <tr>\n",
              "      <th>2</th>\n",
              "      <td>2023-03-01 20:18:22</td>\n",
              "      <td>[bitcoin-dev] Minimum fees</td>\n",
              "      <td>3</td>\n",
              "      <td>[Giuseppe B, Nadav Ivgi, jk_14 at op.pl]</td>\n",
              "      <td>[https://lists.linuxfoundation.org/pipermail/b...</td>\n",
              "      <td>[In this proposal, the author suggests a new p...</td>\n",
              "      <td>\"Exploring the Implementation of Min_Fees Prot...</td>\n",
              "      <td>The proposal suggests a new protocol rule call...</td>\n",
              "    </tr>\n",
              "    <tr>\n",
              "      <th>3</th>\n",
              "      <td>2023-02-28 18:07:06</td>\n",
              "      <td>[bitcoin-dev] Refreshed BIP324</td>\n",
              "      <td>2</td>\n",
              "      <td>[Dhruv M, Erik Aronesty]</td>\n",
              "      <td>[https://lists.linuxfoundation.org/pipermail/b...</td>\n",
              "      <td>[The discussion regarding the use of short 1-b...</td>\n",
              "      <td>\"Bitcoin Development Team Implements Changes t...</td>\n",
              "      <td>The bitcoin development team has implemented c...</td>\n",
              "    </tr>\n",
              "    <tr>\n",
              "      <th>4</th>\n",
              "      <td>2023-03-02 06:55:19</td>\n",
              "      <td>[bitcoin-dev] Using service bit 24 for utreexo...</td>\n",
              "      <td>3</td>\n",
              "      <td>[kcalvinalvin, Luke Dashjr, Peter Todd]</td>\n",
              "      <td>[https://lists.linuxfoundation.org/pipermail/b...</td>\n",
              "      <td>[The writer of the email plans to use service ...</td>\n",
              "      <td>\"Using Service Bit 24 for Utreexo Capable Node...</td>\n",
              "      <td>The email writer plans to use service bit 24 t...</td>\n",
              "    </tr>\n",
              "  </tbody>\n",
              "</table>\n",
              "</div>\n",
              "      <button class=\"colab-df-convert\" onclick=\"convertToInteractive('df-a46e4635-ead1-47ca-815e-b8e944f1df37')\"\n",
              "              title=\"Convert this dataframe to an interactive table.\"\n",
              "              style=\"display:none;\">\n",
              "        \n",
              "  <svg xmlns=\"http://www.w3.org/2000/svg\" height=\"24px\"viewBox=\"0 0 24 24\"\n",
              "       width=\"24px\">\n",
              "    <path d=\"M0 0h24v24H0V0z\" fill=\"none\"/>\n",
              "    <path d=\"M18.56 5.44l.94 2.06.94-2.06 2.06-.94-2.06-.94-.94-2.06-.94 2.06-2.06.94zm-11 1L8.5 8.5l.94-2.06 2.06-.94-2.06-.94L8.5 2.5l-.94 2.06-2.06.94zm10 10l.94 2.06.94-2.06 2.06-.94-2.06-.94-.94-2.06-.94 2.06-2.06.94z\"/><path d=\"M17.41 7.96l-1.37-1.37c-.4-.4-.92-.59-1.43-.59-.52 0-1.04.2-1.43.59L10.3 9.45l-7.72 7.72c-.78.78-.78 2.05 0 2.83L4 21.41c.39.39.9.59 1.41.59.51 0 1.02-.2 1.41-.59l7.78-7.78 2.81-2.81c.8-.78.8-2.07 0-2.86zM5.41 20L4 18.59l7.72-7.72 1.47 1.35L5.41 20z\"/>\n",
              "  </svg>\n",
              "      </button>\n",
              "      \n",
              "  <style>\n",
              "    .colab-df-container {\n",
              "      display:flex;\n",
              "      flex-wrap:wrap;\n",
              "      gap: 12px;\n",
              "    }\n",
              "\n",
              "    .colab-df-convert {\n",
              "      background-color: #E8F0FE;\n",
              "      border: none;\n",
              "      border-radius: 50%;\n",
              "      cursor: pointer;\n",
              "      display: none;\n",
              "      fill: #1967D2;\n",
              "      height: 32px;\n",
              "      padding: 0 0 0 0;\n",
              "      width: 32px;\n",
              "    }\n",
              "\n",
              "    .colab-df-convert:hover {\n",
              "      background-color: #E2EBFA;\n",
              "      box-shadow: 0px 1px 2px rgba(60, 64, 67, 0.3), 0px 1px 3px 1px rgba(60, 64, 67, 0.15);\n",
              "      fill: #174EA6;\n",
              "    }\n",
              "\n",
              "    [theme=dark] .colab-df-convert {\n",
              "      background-color: #3B4455;\n",
              "      fill: #D2E3FC;\n",
              "    }\n",
              "\n",
              "    [theme=dark] .colab-df-convert:hover {\n",
              "      background-color: #434B5C;\n",
              "      box-shadow: 0px 1px 3px 1px rgba(0, 0, 0, 0.15);\n",
              "      filter: drop-shadow(0px 1px 2px rgba(0, 0, 0, 0.3));\n",
              "      fill: #FFFFFF;\n",
              "    }\n",
              "  </style>\n",
              "\n",
              "      <script>\n",
              "        const buttonEl =\n",
              "          document.querySelector('#df-a46e4635-ead1-47ca-815e-b8e944f1df37 button.colab-df-convert');\n",
              "        buttonEl.style.display =\n",
              "          google.colab.kernel.accessAllowed ? 'block' : 'none';\n",
              "\n",
              "        async function convertToInteractive(key) {\n",
              "          const element = document.querySelector('#df-a46e4635-ead1-47ca-815e-b8e944f1df37');\n",
              "          const dataTable =\n",
              "            await google.colab.kernel.invokeFunction('convertToInteractive',\n",
              "                                                     [key], {});\n",
              "          if (!dataTable) return;\n",
              "\n",
              "          const docLinkHtml = 'Like what you see? Visit the ' +\n",
              "            '<a target=\"_blank\" href=https://colab.research.google.com/notebooks/data_table.ipynb>data table notebook</a>'\n",
              "            + ' to learn more about interactive tables.';\n",
              "          element.innerHTML = '';\n",
              "          dataTable['output_type'] = 'display_data';\n",
              "          await google.colab.output.renderOutput(dataTable, element);\n",
              "          const docLink = document.createElement('div');\n",
              "          docLink.innerHTML = docLinkHtml;\n",
              "          element.appendChild(docLink);\n",
              "        }\n",
              "      </script>\n",
              "    </div>\n",
              "  </div>\n",
              "  "
            ]
          },
          "metadata": {},
          "execution_count": 81
        },
        {
          "output_type": "stream",
          "name": "stdout",
          "text": [
            "time: 22.8 ms (started: 2023-03-03 11:04:57 +00:00)\n"
          ]
        }
      ]
    },
    {
      "cell_type": "markdown",
      "source": [
        "## Save HTML"
      ],
      "metadata": {
        "id": "bAQjL7FMyld9"
      }
    },
    {
      "cell_type": "code",
      "source": [
        "def save_html_file(df_week_generated, save_file_name):\n",
        "    # open html\n",
        "    file_handle = open(f\"output/{save_file_name}\", \"w\")\n",
        "\n",
        "    html_title = \"Sample Newsletter\"\n",
        "    html = f'''<!DOCTYPE html><html lang=\"en\"><head><meta charset=\"UTF-8\">\n",
        "    <meta name=\"viewport\" content=\"width=device-width, initial-scale=1.0\">\n",
        "    <meta http-equiv=\"X-UA-Compatible\" content=\"ie=edge\">\n",
        "    <title>{html_title}</title>\n",
        "    <link rel=\"stylesheet\" href=\"style.css\">\n",
        "    </head>\n",
        "    <body>\n",
        "    <h1 style=\"text-align:center; font-family:verdana\" >Hello World!</h1>\n",
        "    <br>\n",
        "    '''\n",
        "    file_handle.write(html)\n",
        "\n",
        "    for idx, row in df_week_generated.iterrows():\n",
        "        # get data\n",
        "        subject = row.subject\n",
        "        date = row.date\n",
        "        num_replies = row.num_replies\n",
        "        authors = row.authors\n",
        "        urls = row.urls\n",
        "        title = row.consolidated_title\n",
        "        summary = row.consolidated_summary\n",
        "\n",
        "        # write subjects and all\n",
        "        html = f\"<hr style='border-top: dotted 2px; '><h2 style='text-align:center; font-family:verdana;'>{subject}</h2><b>Date: </b><i>{date}</i><p>Number of replies: {num_replies}</p>\"\n",
        "        file_handle.write(html)\n",
        "\n",
        "        # write title and summary\n",
        "        html = f\"<h3 style='text-align:center; font-family:verdana; color:#282828;'>{title}</h3><p>{summary}</p><br><b>References:</b>\"\n",
        "        file_handle.write(html)\n",
        "\n",
        "        for i in range(len(urls)):\n",
        "            author = authors[i]\n",
        "            url = urls[i]\n",
        "            html = f\"<ul><li>{author}: <a href='{url}'>{subject}</a></li></ul>\"\n",
        "            file_handle.write(html)\n",
        "        \n",
        "        html = f\"<br>\"\n",
        "        file_handle.write(html)\n",
        "\n",
        "    html=\"</body></html>\"\n",
        "    file_handle.write(html)\n",
        "    file_handle.close()\n",
        "\n",
        "    return f\"output/{save_file_name}.html\"\n"
      ],
      "metadata": {
        "colab": {
          "base_uri": "https://localhost:8080/"
        },
        "id": "u2asd44VJcZY",
        "outputId": "a2adf1ee-8e26-446c-9a6c-a27c7404ae06"
      },
      "execution_count": 99,
      "outputs": [
        {
          "output_type": "stream",
          "name": "stdout",
          "text": [
            "time: 6.14 ms (started: 2023-03-03 11:43:49 +00:00)\n"
          ]
        }
      ]
    },
    {
      "cell_type": "code",
      "source": [
        "save_html_file(df_week_generated, 'chatgpt_newsletter_03_mar')"
      ],
      "metadata": {
        "colab": {
          "base_uri": "https://localhost:8080/",
          "height": 35
        },
        "id": "m2tFAiKYJ5I-",
        "outputId": "aff5a5c1-01b2-49e6-e4ce-5a2ed6b29878"
      },
      "execution_count": 86,
      "outputs": [
        {
          "output_type": "execute_result",
          "data": {
            "text/plain": [
              "'File saved at path: /output/chatgpt_newsletter_03_mar.html'"
            ],
            "application/vnd.google.colaboratory.intrinsic+json": {
              "type": "string"
            }
          },
          "metadata": {},
          "execution_count": 86
        },
        {
          "output_type": "stream",
          "name": "stdout",
          "text": [
            "time: 8.59 ms (started: 2023-03-03 11:07:59 +00:00)\n"
          ]
        }
      ]
    },
    {
      "cell_type": "code",
      "source": [
        "import IPython\n",
        "IPython.display.HTML(filename=\"output/chatgpt_newsletter_03_mar.html\")"
      ],
      "metadata": {
        "colab": {
          "base_uri": "https://localhost:8080/",
          "height": 1000
        },
        "id": "hzEaWIFb5pwM",
        "outputId": "8287bef7-407a-499e-ae0d-2ba760a62dc8"
      },
      "execution_count": 88,
      "outputs": [
        {
          "output_type": "execute_result",
          "data": {
            "text/plain": [
              "<IPython.core.display.HTML object>"
            ],
            "text/html": [
              "<!DOCTYPE html><html lang=\"en\"><head><meta charset=\"UTF-8\">\n",
              "    <meta name=\"viewport\" content=\"width=device-width, initial-scale=1.0\">\n",
              "    <meta http-equiv=\"X-UA-Compatible\" content=\"ie=edge\">\n",
              "    <title>Sample Newsletter</title>\n",
              "    <link rel=\"stylesheet\" href=\"style.css\">\n",
              "    </head>\n",
              "    <body>\n",
              "    <h1 style=\"text-align:center; font-family:verdana\" >Hello World!</h1>\n",
              "    <br>\n",
              "    <hr style='border-top: dotted 2px; '><h2 style='text-align:center; font-family:verdana;'>[bitcoin-dev] BIP for OP_VAULT</h2><b>Date: </b><i>2023-03-01 15:05:47</i><p>Number of replies: 4</p><h3 style='text-align:center; font-family:verdana; color:#282828;'>\"Proposed Modifications to TLUV-ish Script for More Generic and Composable Trigger Functionality\"</h3><p>Context 1: Greg is responding to James' idea aimed at solving a serious problem. He proposes a design detour that decouples the functionalities of `OP_VAULT` and `OP_UNVAULT` into their constituent functions with names he made up. The proposed covenant opcodes are intended to be drop-in replacements for the OP_(UN)VAULT opcodes. Greg proposes replacement opcodes, `OP_TRIGGER_FORWARD`, `EXPR_WITHDRAW`, `OP_FORWARD_DESTINATION`, and `OP_FORWARD_OUTPUTS`, which are meant to allow arbitrary other conditions, where the \"recovery\" path comes in for typical usage. The TLUV-ish script/inner pubkey replacement is meant to allow arbitrary other conditions, which is where the \"recovery\" path comes in for typical usage.Context 2:AJ has proposed an idea for a trigger with delay and hash. The discussion involves technical details of implementing this proposal, including the use of OP_CSV, OP_DROP, and OP_FORWARD_OUTPUTS in the script. The concept of batching inputs to the same output is also discussed. Finally, the conversation concludes with the need to consider a refund path and its interaction with BYOF schemes.Context 3:The sender is new to bitcoin-dev and wants to restrict multiple tapleaves on the amount they can spend. They want to limit the outputs of the next transactions to .2, .3, and .5 BTC respectively, using a locking script with 1 of 3 pubkeys of Alice, Bob, and Carol as participants. If Bob spends the output, they are restricted to making a transaction that has a change output with at least Alice and Carol's amount and a 1 or 2 tapscript or a 1 of 3 tapscript if Bob didn't spend all their funds. In case two of the three participants separately broadcast their transactions, the second sender wants to combine them into a package where the outputs and witnesses would be adjusted, two participants share an output with their respective amounts, and the remaining participant still has their funds available. The sender mentions being interested in some BIPs like OP_CHECKTEMPLATEVERIFY and OP_AMOUNTVERIFY but is not aware of the risks discussed by the community.</p><br><b>References:</b><ul><li>Greg Sanders: <a href='https://lists.linuxfoundation.org/pipermail/bitcoin-dev/2023-March/021510.html'>[bitcoin-dev] BIP for OP_VAULT</a></li></ul><ul><li>Anthony Towns: <a href='https://lists.linuxfoundation.org/pipermail/bitcoin-dev/2023-March/021514.html'>[bitcoin-dev] BIP for OP_VAULT</a></li></ul><ul><li>Greg Sanders: <a href='https://lists.linuxfoundation.org/pipermail/bitcoin-dev/2023-March/021516.html'>[bitcoin-dev] BIP for OP_VAULT</a></li></ul><ul><li>Andrew Melnychuk Oseen: <a href='https://lists.linuxfoundation.org/pipermail/bitcoin-dev/2023-March/021518.html'>[bitcoin-dev] BIP for OP_VAULT</a></li></ul><br><hr style='border-top: dotted 2px; '><h2 style='text-align:center; font-family:verdana;'>[bitcoin-dev] BIP proposal: Fee-redistribution contracts</h2><b>Date: </b><i>2023-02-27 13:32:01</i><p>Number of replies: 4</p><h3 style='text-align:center; font-family:verdana; color:#282828;'>Proposals for Redistributing Transaction Fees in Bitcoin Mining</h3><p>The Bachelor's thesis proposes a fee redistribution method to make mining more secure and predictable against fluctuations. The proposed solution involves sending a fraction of transaction fees to contracts that redistribute them back to miners without introducing new Bitcoins. However, the proposal has flaws, including the possibility of undercutting attacks and difficulty in convincing the ecosystem to change the competitive mining structure. Another suggestion is to save a portion of transaction fees with each reward halving until a threshold is reached, where the saved amounts get added to the low block reward. Rastislav Budinsky argues that miners can profit from \"out-of-band fees\", but changing consensus rules could lead to all fees being paid out of band, preventing effective redistribution. Dave suggests addressing the problem of out-of-band fees and ensuring decentralization before considering the proposal. Overall, the proposals require further research and consideration before implementing them.</p><br><b>References:</b><ul><li>Rastislav Budinsky: <a href='https://lists.linuxfoundation.org/pipermail/bitcoin-dev/2023-February/021505.html'>[bitcoin-dev] BIP proposal: Fee-redistribution contracts</a></li></ul><ul><li>HcaFc_jbe: <a href='https://lists.linuxfoundation.org/pipermail/bitcoin-dev/2023-February/021506.html'>[bitcoin-dev] BIP proposal: Fee-redistribution contracts</a></li></ul><ul><li>shymaa arafat: <a href='https://lists.linuxfoundation.org/pipermail/bitcoin-dev/2023-February/021507.html'>[bitcoin-dev] BIP proposal: Fee-redistribution contracts</a></li></ul><ul><li>David A. Harding: <a href='https://lists.linuxfoundation.org/pipermail/bitcoin-dev/2023-March/021511.html'>[bitcoin-dev] BIP proposal: Fee-redistribution contracts</a></li></ul><br><hr style='border-top: dotted 2px; '><h2 style='text-align:center; font-family:verdana;'>[bitcoin-dev] Minimum fees</h2><b>Date: </b><i>2023-03-01 20:18:22</i><p>Number of replies: 3</p><h3 style='text-align:center; font-family:verdana; color:#282828;'>\"Exploring the Implementation of Min_Fees Protocol Rule in Bitcoin Transactions for Long-Term Network Security\"</h3><p>The proposal suggests a new protocol rule called min_fees to address the issue of low transaction fees when block rewards are almost zero. It is suggested that the miner who mines a block appends a min_fee field to specify the minimum fees required for the following block to be valid. However, there may be potential drawbacks such as increased reorgs/orphan rates and chain instability. Bitcoin currently lacks an equilibrium between active users and miners, and the equilibrium needed in the future is between active users (transactional tax) and passive stakeholders (inflation tax). A system in which all users participate in ensuring its long-term security is honest. The weak long-term security budget and quantum threat are the only serious issues in Bitcoin. A new protocol rule, min_fees, could potentially bring the equilibrium closer to a socially optimal one and benefit network security in the long term. Miners would append a min_fee field to the block specifying the minimum fees that need to be contained in the following block for it to be valid. This principle deserves a deeper analysis.</p><br><b>References:</b><ul><li>Giuseppe B: <a href='https://lists.linuxfoundation.org/pipermail/bitcoin-dev/2023-March/021512.html'>[bitcoin-dev] Minimum fees</a></li></ul><ul><li>Nadav Ivgi: <a href='https://lists.linuxfoundation.org/pipermail/bitcoin-dev/2023-March/021513.html'>[bitcoin-dev] Minimum fees</a></li></ul><ul><li>jk_14 at op.pl: <a href='https://lists.linuxfoundation.org/pipermail/bitcoin-dev/2023-March/021520.html'>[bitcoin-dev] Minimum fees</a></li></ul><br><hr style='border-top: dotted 2px; '><h2 style='text-align:center; font-family:verdana;'>[bitcoin-dev] Refreshed BIP324</h2><b>Date: </b><i>2023-02-28 18:07:06</i><p>Number of replies: 2</p><h3 style='text-align:center; font-family:verdana; color:#282828;'>\"Bitcoin Development Team Implements Changes to Short Message Type IDs Using One Byte for Identification\"</h3><p>The bitcoin development team has implemented changes in the use of short 1-byte message type IDs. Anthony Towns announced this on February 21st, 2023 at 8:03. The new approach follows the protocol's method of using one byte for identification with the top bit reserved to indicate if two bytes are needed. This allows for 128 choices before requiring a second byte. The process can be repeated when all options are exhausted. This method is similar to how integers are stored in protobuf. Further details on the specific changes made are not provided.</p><br><b>References:</b><ul><li>Dhruv M: <a href='https://lists.linuxfoundation.org/pipermail/bitcoin-dev/2023-February/021508.html'>[bitcoin-dev] Refreshed BIP324</a></li></ul><ul><li>Erik Aronesty: <a href='https://lists.linuxfoundation.org/pipermail/bitcoin-dev/2023-February/021509.html'>[bitcoin-dev] Refreshed BIP324</a></li></ul><br><hr style='border-top: dotted 2px; '><h2 style='text-align:center; font-family:verdana;'>[bitcoin-dev] Using service bit 24 for utreexo signaling in testnet and signet</h2><b>Date: </b><i>2023-03-02 06:55:19</i><p>Number of replies: 3</p><h3 style='text-align:center; font-family:verdana; color:#282828;'>\"Using Service Bit 24 for Utreexo Capable Nodes: Plans, Coordination, and Considerations\"</h3><p>The email writer plans to use service bit 24 to signal Utreexo capable nodes on testnet and signet. They plan to release binaries for the Utreexo node for power users in the next few months but have no plans for mainnet yet. The writer requests coordination if someone else is using the same bit to signal something else. Calvin signed off the email. A suggestion was made to write up a BIP and use a normal service bit assignment instead of an experimental one. Bit 24 is currently unused, making it a good choice for experimentation. However, Bit 26 is being used by full-rbf according to a specific GitHub commit. This information was shared via a message on bitcoin dev by kcalvinalvin on March 2nd, 2023 at 01:55.</p><br><b>References:</b><ul><li>kcalvinalvin: <a href='https://lists.linuxfoundation.org/pipermail/bitcoin-dev/2023-March/021515.html'>[bitcoin-dev] Using service bit 24 for utreexo signaling in testnet and signet</a></li></ul><ul><li>Luke Dashjr: <a href='https://lists.linuxfoundation.org/pipermail/bitcoin-dev/2023-March/021517.html'>[bitcoin-dev] Using service bit 24 for utreexo signaling in testnet and signet</a></li></ul><ul><li>Peter Todd: <a href='https://lists.linuxfoundation.org/pipermail/bitcoin-dev/2023-March/021519.html'>[bitcoin-dev] Using service bit 24 for utreexo signaling in testnet and signet</a></li></ul><br></body></html>"
            ]
          },
          "metadata": {},
          "execution_count": 88
        },
        {
          "output_type": "stream",
          "name": "stdout",
          "text": [
            "time: 13.5 ms (started: 2023-03-03 11:09:05 +00:00)\n"
          ]
        }
      ]
    },
    {
      "cell_type": "markdown",
      "source": [
        "# Tldr;"
      ],
      "metadata": {
        "id": "9V7Hx1gXM4bV"
      }
    },
    {
      "cell_type": "code",
      "source": [
        "mailing_list_base_url = \"https://lists.linuxfoundation.org/pipermail/bitcoin-dev\"\n",
        "\n",
        "all_email_urls = collect_email_urls(mailing_list_base_url)\n",
        "df_week = scrape_email_urls(all_email_urls)\n",
        "\n",
        "df_week_generated = generate_newsletter_completion(df_week)\n",
        "\n",
        "save_file_name = f\"html_newsletter_{CURRENT_TIMESTAMP}.html\"\n",
        "html_file_path = save_html_file(df_week_generated, save_file_name)"
      ],
      "metadata": {
        "colab": {
          "base_uri": "https://localhost:8080/"
        },
        "id": "x1MNb1FTM5kw",
        "outputId": "5bcaf4f7-a897-4a48-b8b7-4f3a846131c8"
      },
      "execution_count": 100,
      "outputs": [
        {
          "output_type": "stream",
          "name": "stdout",
          "text": [
            "working on: https://lists.linuxfoundation.org/pipermail/bitcoin-dev/2023-March/\n",
            "working on: https://lists.linuxfoundation.org/pipermail/bitcoin-dev/2023-February/\n",
            "Fetched Urls: 136\n"
          ]
        },
        {
          "output_type": "stream",
          "name": "stderr",
          "text": [
            "100%|██████████| 136/136 [01:01<00:00,  2.22it/s]\n",
            "/usr/local/lib/python3.8/dist-packages/pandas/util/_decorators.py:311: SettingWithCopyWarning: \n",
            "A value is trying to be set on a copy of a slice from a DataFrame\n",
            "\n",
            "See the caveats in the documentation: https://pandas.pydata.org/pandas-docs/stable/user_guide/indexing.html#returning-a-view-versus-a-copy\n",
            "  return func(*args, **kwargs)\n",
            "<ipython-input-96-a9987442d6f7>:50: SettingWithCopyWarning: \n",
            "A value is trying to be set on a copy of a slice from a DataFrame.\n",
            "Try using .loc[row_indexer,col_indexer] = value instead\n",
            "\n",
            "See the caveats in the documentation: https://pandas.pydata.org/pandas-docs/stable/user_guide/indexing.html#returning-a-view-versus-a-copy\n",
            "  df_week['tokens'] = df_week['email'].apply(lambda x: len(tokenizer.encode(x)))\n"
          ]
        },
        {
          "output_type": "stream",
          "name": "stdout",
          "text": [
            "Number of threads found: 5\n",
            "-----\n",
            "working on subject: [bitcoin-dev] BIP for OP_VAULT\n"
          ]
        },
        {
          "output_type": "stream",
          "name": "stderr",
          "text": [
            "100%|██████████| 4/4 [00:21<00:00,  5.26s/it]\n"
          ]
        },
        {
          "output_type": "stream",
          "name": "stdout",
          "text": [
            "-----\n",
            "working on subject: [bitcoin-dev] BIP proposal: Fee-redistribution contracts\n"
          ]
        },
        {
          "output_type": "stream",
          "name": "stderr",
          "text": [
            "100%|██████████| 4/4 [00:15<00:00,  3.96s/it]\n"
          ]
        },
        {
          "output_type": "stream",
          "name": "stdout",
          "text": [
            "-----\n",
            "working on subject: [bitcoin-dev] Minimum fees\n"
          ]
        },
        {
          "output_type": "stream",
          "name": "stderr",
          "text": [
            "100%|██████████| 3/3 [00:11<00:00,  3.98s/it]\n"
          ]
        },
        {
          "output_type": "stream",
          "name": "stdout",
          "text": [
            "-----\n",
            "working on subject: [bitcoin-dev] Refreshed BIP324\n"
          ]
        },
        {
          "output_type": "stream",
          "name": "stderr",
          "text": [
            "100%|██████████| 2/2 [00:04<00:00,  2.14s/it]\n"
          ]
        },
        {
          "output_type": "stream",
          "name": "stdout",
          "text": [
            "-----\n",
            "working on subject: [bitcoin-dev] Using service bit 24 for utreexo signaling in testnet and signet\n"
          ]
        },
        {
          "output_type": "stream",
          "name": "stderr",
          "text": [
            "100%|██████████| 3/3 [00:06<00:00,  2.20s/it]\n"
          ]
        },
        {
          "output_type": "stream",
          "name": "stdout",
          "text": [
            "-----\n",
            "time: 2min 24s (started: 2023-03-03 11:44:09 +00:00)\n"
          ]
        }
      ]
    },
    {
      "cell_type": "code",
      "source": [],
      "metadata": {
        "id": "Alt37QkgSVy1"
      },
      "execution_count": null,
      "outputs": []
    }
  ]
}